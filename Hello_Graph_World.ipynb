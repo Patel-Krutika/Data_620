{
  "nbformat": 4,
  "nbformat_minor": 0,
  "metadata": {
    "colab": {
      "provenance": []
    },
    "kernelspec": {
      "name": "python3",
      "display_name": "Python 3"
    },
    "language_info": {
      "name": "python"
    }
  },
  "cells": [
    {
      "cell_type": "code",
      "source": [
        "import random\n",
        "import matplotlib.pyplot as plt\n",
        "from matplotlib.cm import ScalarMappable\n",
        "from matplotlib.colors import LinearSegmentedColormap, Normalize\n",
        "import igraph as ig"
      ],
      "metadata": {
        "id": "lYBDYTIob6qg"
      },
      "execution_count": 3,
      "outputs": []
    },
    {
      "cell_type": "code",
      "execution_count": 6,
      "metadata": {
        "id": "xafx67BPalqz"
      },
      "outputs": [],
      "source": [
        "import networkx as nx"
      ]
    },
    {
      "cell_type": "code",
      "source": [
        "labeldict = {}\n",
        "labeldict[\"1\"] = \"Beverly\"\n",
        "labeldict[\"2\"] = \"Andre\"\n",
        "labeldict[\"3\"] = \"Ed\"\n",
        "labeldict[\"4\"] = \"Diane\"\n",
        "labeldict[\"5\"] = \"Carol\"\n",
        "labeldict[\"6\"] = \"Garth\"\n",
        "labeldict[\"7\"] = \"Fernando\"\n",
        "labeldict[\"8\"] = \"Heather\"\n",
        "labeldict[\"9\"] = \"Ike\"\n",
        "labeldict[\"10\"] = \"Jane\""
      ],
      "metadata": {
        "id": "jOR9snwzlzfn"
      },
      "execution_count": 17,
      "outputs": []
    },
    {
      "cell_type": "code",
      "source": [
        "G = nx.krackhardt_kite_graph()\n",
        "\n",
        "plt.subplot(122)\n",
        "\n",
        "nx.draw(G, labels=labeldict, with_labels=True,\n",
        "        node_color = 'r',\n",
        "        edge_color = 'b')"
      ],
      "metadata": {
        "id": "lFuRvsNYkXpT"
      },
      "execution_count": null,
      "outputs": []
    }
  ]
}